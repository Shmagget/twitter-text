{
 "cells": [
  {
   "cell_type": "markdown",
   "id": "1153a60f",
   "metadata": {},
   "source": [
    "**FaceBook Analysis and Hypothesis**\n"
   ]
  },
  {
   "cell_type": "markdown",
   "id": "b99dfd05",
   "metadata": {},
   "source": [
    "I have never used facebook ever so i had to use the sources that my professor gave us incase we didnt have a facebook account. Im going to guess the most visited sites are Kent that being the school he taught at and maybe Twitter because of the useful information on there."
   ]
  },
  {
   "cell_type": "markdown",
   "id": "954fcad4",
   "metadata": {},
   "source": [
    "**Importing the stuff i need for the project**"
   ]
  },
  {
   "cell_type": "code",
   "execution_count": 184,
   "id": "899754ff",
   "metadata": {},
   "outputs": [],
   "source": [
    "import pandas as pd\n",
    "import numpy as np\n",
    "from matplotlib import pyplot as plt\n",
    "from scipy import stats\n",
    "import json5 as js\n",
    "import base64\n",
    "import requests"
   ]
  },
  {
   "cell_type": "markdown",
   "id": "7f403c9f",
   "metadata": {},
   "source": [
    "**Grabbing the file that i need to import from facebook to see the data**\n"
   ]
  },
  {
   "cell_type": "code",
   "execution_count": 185,
   "id": "d96b6bac",
   "metadata": {},
   "outputs": [],
   "source": [
    "with open('your_off-facebook_activity.json') as data: facedf = json.load(data)"
   ]
  },
  {
   "cell_type": "markdown",
   "id": "d50a5a55",
   "metadata": {},
   "source": [
    "**Making a small dataframe to show what you visited**"
   ]
  },
  {
   "cell_type": "code",
   "execution_count": 186,
   "id": "7fa8caf0",
   "metadata": {},
   "outputs": [
    {
     "data": {
      "text/html": [
       "<div>\n",
       "<style scoped>\n",
       "    .dataframe tbody tr th:only-of-type {\n",
       "        vertical-align: middle;\n",
       "    }\n",
       "\n",
       "    .dataframe tbody tr th {\n",
       "        vertical-align: top;\n",
       "    }\n",
       "\n",
       "    .dataframe thead th {\n",
       "        text-align: right;\n",
       "    }\n",
       "</style>\n",
       "<table border=\"1\" class=\"dataframe\">\n",
       "  <thead>\n",
       "    <tr style=\"text-align: right;\">\n",
       "      <th></th>\n",
       "      <th>name</th>\n",
       "      <th>events</th>\n",
       "    </tr>\n",
       "  </thead>\n",
       "  <tbody>\n",
       "    <tr>\n",
       "      <th>0</th>\n",
       "      <td>Spotify: Spotify: Music and Podcasts</td>\n",
       "      <td>[{'id': 174829003346, 'type': 'CUSTOM', 'times...</td>\n",
       "    </tr>\n",
       "    <tr>\n",
       "      <th>1</th>\n",
       "      <td>cameo.com</td>\n",
       "      <td>[{'id': 443618109326032, 'type': 'PAGE_VIEW', ...</td>\n",
       "    </tr>\n",
       "    <tr>\n",
       "      <th>2</th>\n",
       "      <td>kent.edu</td>\n",
       "      <td>[{'id': 661904321318543, 'type': 'PAGE_VIEW', ...</td>\n",
       "    </tr>\n",
       "    <tr>\n",
       "      <th>3</th>\n",
       "      <td>Allstate</td>\n",
       "      <td>[{'id': 2702763333090634, 'type': 'CUSTOM', 't...</td>\n",
       "    </tr>\n",
       "    <tr>\n",
       "      <th>4</th>\n",
       "      <td>Bed Bath &amp; Beyond</td>\n",
       "      <td>[{'id': 346165315733088, 'type': 'PURCHASE', '...</td>\n",
       "    </tr>\n",
       "    <tr>\n",
       "      <th>...</th>\n",
       "      <td>...</td>\n",
       "      <td>...</td>\n",
       "    </tr>\n",
       "    <tr>\n",
       "      <th>570</th>\n",
       "      <td>goodyear.com</td>\n",
       "      <td>[{'id': 493663731138538, 'type': 'PAGE_VIEW', ...</td>\n",
       "    </tr>\n",
       "    <tr>\n",
       "      <th>571</th>\n",
       "      <td>futurism.com</td>\n",
       "      <td>[{'id': 286353685112848, 'type': 'PAGE_VIEW', ...</td>\n",
       "    </tr>\n",
       "    <tr>\n",
       "      <th>572</th>\n",
       "      <td>flixlist.co</td>\n",
       "      <td>[{'id': 687389134726121, 'type': 'PAGE_VIEW', ...</td>\n",
       "    </tr>\n",
       "    <tr>\n",
       "      <th>573</th>\n",
       "      <td>freedomscientific.com</td>\n",
       "      <td>[{'id': 2984607088284540, 'type': 'PAGE_VIEW',...</td>\n",
       "    </tr>\n",
       "    <tr>\n",
       "      <th>574</th>\n",
       "      <td>yougov.com</td>\n",
       "      <td>[{'id': 287252505137592, 'type': 'PAGE_VIEW', ...</td>\n",
       "    </tr>\n",
       "  </tbody>\n",
       "</table>\n",
       "<p>575 rows × 2 columns</p>\n",
       "</div>"
      ],
      "text/plain": [
       "                                     name  \\\n",
       "0    Spotify: Spotify: Music and Podcasts   \n",
       "1                               cameo.com   \n",
       "2                                kent.edu   \n",
       "3                                Allstate   \n",
       "4                       Bed Bath & Beyond   \n",
       "..                                    ...   \n",
       "570                          goodyear.com   \n",
       "571                          futurism.com   \n",
       "572                           flixlist.co   \n",
       "573                 freedomscientific.com   \n",
       "574                            yougov.com   \n",
       "\n",
       "                                                events  \n",
       "0    [{'id': 174829003346, 'type': 'CUSTOM', 'times...  \n",
       "1    [{'id': 443618109326032, 'type': 'PAGE_VIEW', ...  \n",
       "2    [{'id': 661904321318543, 'type': 'PAGE_VIEW', ...  \n",
       "3    [{'id': 2702763333090634, 'type': 'CUSTOM', 't...  \n",
       "4    [{'id': 346165315733088, 'type': 'PURCHASE', '...  \n",
       "..                                                 ...  \n",
       "570  [{'id': 493663731138538, 'type': 'PAGE_VIEW', ...  \n",
       "571  [{'id': 286353685112848, 'type': 'PAGE_VIEW', ...  \n",
       "572  [{'id': 687389134726121, 'type': 'PAGE_VIEW', ...  \n",
       "573  [{'id': 2984607088284540, 'type': 'PAGE_VIEW',...  \n",
       "574  [{'id': 287252505137592, 'type': 'PAGE_VIEW', ...  \n",
       "\n",
       "[575 rows x 2 columns]"
      ]
     },
     "execution_count": 186,
     "metadata": {},
     "output_type": "execute_result"
    }
   ],
   "source": [
    "facedf = pd.DataFrame(facedf['off_facebook_activity_v2'])\n",
    "facedf"
   ]
  },
  {
   "cell_type": "markdown",
   "id": "b9a5469a",
   "metadata": {},
   "source": [
    "**Counting each place you visited and how many times you did**"
   ]
  },
  {
   "cell_type": "code",
   "execution_count": 187,
   "id": "3605eff5",
   "metadata": {},
   "outputs": [
    {
     "data": {
      "text/html": [
       "<div>\n",
       "<style scoped>\n",
       "    .dataframe tbody tr th:only-of-type {\n",
       "        vertical-align: middle;\n",
       "    }\n",
       "\n",
       "    .dataframe tbody tr th {\n",
       "        vertical-align: top;\n",
       "    }\n",
       "\n",
       "    .dataframe thead th {\n",
       "        text-align: right;\n",
       "    }\n",
       "</style>\n",
       "<table border=\"1\" class=\"dataframe\">\n",
       "  <thead>\n",
       "    <tr style=\"text-align: right;\">\n",
       "      <th></th>\n",
       "      <th>events</th>\n",
       "    </tr>\n",
       "    <tr>\n",
       "      <th>name</th>\n",
       "      <th></th>\n",
       "    </tr>\n",
       "  </thead>\n",
       "  <tbody>\n",
       "    <tr>\n",
       "      <th>2020census.gov</th>\n",
       "      <td>36</td>\n",
       "    </tr>\n",
       "    <tr>\n",
       "      <th>2k.com</th>\n",
       "      <td>9</td>\n",
       "    </tr>\n",
       "    <tr>\n",
       "      <th>500px.com</th>\n",
       "      <td>8</td>\n",
       "    </tr>\n",
       "    <tr>\n",
       "      <th>6abc.com</th>\n",
       "      <td>8</td>\n",
       "    </tr>\n",
       "    <tr>\n",
       "      <th>AT&amp;T</th>\n",
       "      <td>17</td>\n",
       "    </tr>\n",
       "    <tr>\n",
       "      <th>...</th>\n",
       "      <td>...</td>\n",
       "    </tr>\n",
       "    <tr>\n",
       "      <th>yumpu.com</th>\n",
       "      <td>12</td>\n",
       "    </tr>\n",
       "    <tr>\n",
       "      <th>zdnet.com</th>\n",
       "      <td>12</td>\n",
       "    </tr>\n",
       "    <tr>\n",
       "      <th>zelda.com</th>\n",
       "      <td>11</td>\n",
       "    </tr>\n",
       "    <tr>\n",
       "      <th>zillow.com</th>\n",
       "      <td>21</td>\n",
       "    </tr>\n",
       "    <tr>\n",
       "      <th>ziplyfiber.com</th>\n",
       "      <td>10</td>\n",
       "    </tr>\n",
       "  </tbody>\n",
       "</table>\n",
       "<p>575 rows × 1 columns</p>\n",
       "</div>"
      ],
      "text/plain": [
       "                events\n",
       "name                  \n",
       "2020census.gov      36\n",
       "2k.com               9\n",
       "500px.com            8\n",
       "6abc.com             8\n",
       "AT&T                17\n",
       "...                ...\n",
       "yumpu.com           12\n",
       "zdnet.com           12\n",
       "zelda.com           11\n",
       "zillow.com          21\n",
       "ziplyfiber.com      10\n",
       "\n",
       "[575 rows x 1 columns]"
      ]
     },
     "execution_count": 187,
     "metadata": {},
     "output_type": "execute_result"
    }
   ],
   "source": [
    "name_count = facedf.groupby(['name']).count()\n",
    "name_count['events'] = [len(x) for x in facedf['name']]\n",
    "name_count"
   ]
  },
  {
   "cell_type": "markdown",
   "id": "e3d80016",
   "metadata": {},
   "source": [
    "**Showing the average ammount of times that you visited a certain place however many times you did**"
   ]
  },
  {
   "cell_type": "code",
   "execution_count": 188,
   "id": "3e092e79",
   "metadata": {},
   "outputs": [
    {
     "data": {
      "image/png": "[encoded data removed]",
      "text/plain": [
       "<Figure size 432x288 with 1 Axes>"
      ]
     },
     "metadata": {
      "needs_background": "light"
     },
     "output_type": "display_data"
    }
   ],
   "source": [
    "ax1, fig1 = plt.subplots()\n",
    "fig1.hist(name_count['events'])\n",
    "plt.show()"
   ]
  },
  {
   "cell_type": "markdown",
   "id": "feaa4072",
   "metadata": {},
   "source": [
    "**Top 20 sites visited**"
   ]
  },
  {
   "cell_type": "code",
   "execution_count": 189,
   "id": "01f39997",
   "metadata": {},
   "outputs": [
    {
     "data": {
      "text/html": [
       "<div>\n",
       "<style scoped>\n",
       "    .dataframe tbody tr th:only-of-type {\n",
       "        vertical-align: middle;\n",
       "    }\n",
       "\n",
       "    .dataframe tbody tr th {\n",
       "        vertical-align: top;\n",
       "    }\n",
       "\n",
       "    .dataframe thead th {\n",
       "        text-align: right;\n",
       "    }\n",
       "</style>\n",
       "<table border=\"1\" class=\"dataframe\">\n",
       "  <thead>\n",
       "    <tr style=\"text-align: right;\">\n",
       "      <th></th>\n",
       "      <th>events</th>\n",
       "    </tr>\n",
       "    <tr>\n",
       "      <th>name</th>\n",
       "      <th></th>\n",
       "    </tr>\n",
       "  </thead>\n",
       "  <tbody>\n",
       "    <tr>\n",
       "      <th>menswearhouse.com</th>\n",
       "      <td>50</td>\n",
       "    </tr>\n",
       "    <tr>\n",
       "      <th>gapfactory.com</th>\n",
       "      <td>50</td>\n",
       "    </tr>\n",
       "    <tr>\n",
       "      <th>Spotify: Spotify: Music and Podcasts</th>\n",
       "      <td>50</td>\n",
       "    </tr>\n",
       "    <tr>\n",
       "      <th>Twitch: Livestream Multiplayer Games &amp; Esports</th>\n",
       "      <td>50</td>\n",
       "    </tr>\n",
       "    <tr>\n",
       "      <th>medmutual.com</th>\n",
       "      <td>50</td>\n",
       "    </tr>\n",
       "    <tr>\n",
       "      <th>findlaw.com</th>\n",
       "      <td>49</td>\n",
       "    </tr>\n",
       "    <tr>\n",
       "      <th>Hulu: Stream new TV shows, movies &amp; series</th>\n",
       "      <td>49</td>\n",
       "    </tr>\n",
       "    <tr>\n",
       "      <th>aba.com</th>\n",
       "      <td>49</td>\n",
       "    </tr>\n",
       "    <tr>\n",
       "      <th>kff.org</th>\n",
       "      <td>48</td>\n",
       "    </tr>\n",
       "    <tr>\n",
       "      <th>moz.com</th>\n",
       "      <td>46</td>\n",
       "    </tr>\n",
       "    <tr>\n",
       "      <th>mediapost.com</th>\n",
       "      <td>46</td>\n",
       "    </tr>\n",
       "    <tr>\n",
       "      <th>merriam-webster.com</th>\n",
       "      <td>46</td>\n",
       "    </tr>\n",
       "    <tr>\n",
       "      <th>REDBOX: Rent, Stream &amp; Buy</th>\n",
       "      <td>42</td>\n",
       "    </tr>\n",
       "    <tr>\n",
       "      <th>honda.com</th>\n",
       "      <td>42</td>\n",
       "    </tr>\n",
       "    <tr>\n",
       "      <th>oregonstate.edu</th>\n",
       "      <td>38</td>\n",
       "    </tr>\n",
       "    <tr>\n",
       "      <th>2020census.gov</th>\n",
       "      <td>36</td>\n",
       "    </tr>\n",
       "    <tr>\n",
       "      <th>freep.com</th>\n",
       "      <td>33</td>\n",
       "    </tr>\n",
       "    <tr>\n",
       "      <th>spatial.chat</th>\n",
       "      <td>31</td>\n",
       "    </tr>\n",
       "    <tr>\n",
       "      <th>mersive.com</th>\n",
       "      <td>30</td>\n",
       "    </tr>\n",
       "    <tr>\n",
       "      <th>techradar.com</th>\n",
       "      <td>28</td>\n",
       "    </tr>\n",
       "  </tbody>\n",
       "</table>\n",
       "</div>"
      ],
      "text/plain": [
       "                                                events\n",
       "name                                                  \n",
       "menswearhouse.com                                   50\n",
       "gapfactory.com                                      50\n",
       "Spotify: Spotify: Music and Podcasts                50\n",
       "Twitch: Livestream Multiplayer Games & Esports      50\n",
       "medmutual.com                                       50\n",
       "findlaw.com                                         49\n",
       "Hulu: Stream new TV shows, movies & series          49\n",
       "aba.com                                             49\n",
       "kff.org                                             48\n",
       "moz.com                                             46\n",
       "mediapost.com                                       46\n",
       "merriam-webster.com                                 46\n",
       "REDBOX: Rent, Stream & Buy                          42\n",
       "honda.com                                           42\n",
       "oregonstate.edu                                     38\n",
       "2020census.gov                                      36\n",
       "freep.com                                           33\n",
       "spatial.chat                                        31\n",
       "mersive.com                                         30\n",
       "techradar.com                                       28"
      ]
     },
     "execution_count": 189,
     "metadata": {},
     "output_type": "execute_result"
    }
   ],
   "source": [
    "top = name_count.sort_values('events', ascending=False)\n",
    "top[0:20]"
   ]
  },
  {
   "cell_type": "markdown",
   "id": "69dac483",
   "metadata": {},
   "source": [
    "**Plotting the top places that were visited on a bar graph so you can see which is highest**"
   ]
  },
  {
   "cell_type": "code",
   "execution_count": 190,
   "id": "01d32b4e",
   "metadata": {},
   "outputs": [
    {
     "data": {
      "image/png": "[encoded data removed]",
      "text/plain": [
       "<Figure size 432x288 with 1 Axes>"
      ]
     },
     "metadata": {
      "needs_background": "light"
     },
     "output_type": "display_data"
    }
   ],
   "source": [
    "ax, fig = plt.subplots()\n",
    "fig.bar(top.index[0:20], top['events'][0:20])\n",
    "plt.xticks(rotation=270)\n",
    "plt.show()"
   ]
  },
  {
   "cell_type": "markdown",
   "id": "4772a9a4",
   "metadata": {},
   "source": [
    "**Spotify Albums**"
   ]
  },
  {
   "cell_type": "markdown",
   "id": "6d41772b",
   "metadata": {},
   "source": [
    "**Grabbing everything i need to start the spotify albums portion of the project. the Keys tokens and apis i need**"
   ]
  },
  {
   "cell_type": "code",
   "execution_count": 191,
   "id": "04fe03cf",
   "metadata": {},
   "outputs": [],
   "source": [
    "keys = pd.read_csv('spotify.txt', sep = \",\", header = 0)\n",
    "appid = keys['Client_ID'][0]\n",
    "appsecret = keys['Client_Secret'][0]\n",
    "client_cred = base64.b64encode(str(appid+\":\"+ appsecret).encode('ascii'))\n",
    "header = {'Authorization': 'Basic {}'.format(client_cred.decode('ascii'))}\n",
    "payload = {'grant_type' : 'client_credentials'}\n",
    "access_token_url = \"https://accounts.spotify.com/api/token\"\n",
    "response = requests.post(access_token_url, headers = header,data = payload)\n",
    "session_token = response.json()['access_token']\n",
    "session_header = {'Authorization' : 'Bearer {}'.format(response.json()['access_token'])}"
   ]
  },
  {
   "cell_type": "markdown",
   "id": "8bf89a1d",
   "metadata": {},
   "source": [
    "**Album IDS and Endpoints**"
   ]
  },
  {
   "cell_type": "markdown",
   "id": "45f3af33",
   "metadata": {},
   "source": [
    "The Albums i chose were Melophobia by Cage The Elephant and Meteora By Linkin Park. They both are special to me Meteora being the first rock album i was ever introduced to by my dad and i instantly liked it, i still listen to it to this day. Melophobia is my favorite album of all time. I know ever song and there isnt a bad one on the album, its a no brainer to chose"
   ]
  },
  {
   "cell_type": "code",
   "execution_count": 192,
   "id": "d7cacb30",
   "metadata": {},
   "outputs": [],
   "source": [
    "Meteora = '4Gfnly5CzMJQqkUFfoHaP3'\n",
    "Melophobia = '4EK8gtQfdVsmDTji7gBFlz'\n",
    "Met_endpoint = \"https://api.spotify.com/v1/albums/{}/tracks\".format(Meteora)\n",
    "Met_tracks = requests.get(Met_endpoint, headers = session_header)\n",
    "Mel_endpoint = \"https://api.spotify.com/v1/albums/{}/tracks\".format(Melophobia)\n",
    "Me_tracks = requests.get(Mel_endpoint, headers = session_header)"
   ]
  },
  {
   "cell_type": "code",
   "execution_count": 193,
   "id": "334adbae",
   "metadata": {},
   "outputs": [],
   "source": [
    "Met_dict = js.loads(Met_tracks.text)\n",
    "Met_track_ids = [x['id'] for x in Met_dict['items']]\n",
    "Mel_dict = js.loads(Mel_tracks.text)\n",
    "Mel_track_ids = [x['id'] for x in Mel_dict['items']]"
   ]
  },
  {
   "cell_type": "markdown",
   "id": "3af031ac",
   "metadata": {},
   "source": [
    "**Grabbing the audio features for each album from the spotify API**"
   ]
  },
  {
   "cell_type": "code",
   "execution_count": 194,
   "id": "aa8f5d69",
   "metadata": {},
   "outputs": [],
   "source": [
    "Met_features_endpoint = \"https://api.spotify.com/v1/audio-features?ids={}\".format(','.join(str(x) for x in Met_track_ids))\n",
    "Met_features = requests.get(Met_features_endpoint, headers = session_header)\n",
    "Mel_features_endpoint = \"https://api.spotify.com/v1/audio-features?ids={}\".format(','.join(str(x) for x in Mel_track_ids))\n",
    "Mel_features = requests.get(Mel_features_endpoint, headers = session_header)"
   ]
  },
  {
   "cell_type": "code",
   "execution_count": 196,
   "id": "9db1ef42",
   "metadata": {},
   "outputs": [],
   "source": [
    "Met_dict = js.loads(Met_features.text)\n",
    "Mel_dict = js.loads(Mel_features.text)\n",
    "Met_df = pd.DataFrame(Met_dict['audio_features'])\n",
    "Mel_df = pd.DataFrame(Mel_dict['audio_features'])\n",
    "Met_df['album'] = ['Meteora'] * len(Met_df.index)\n",
    "Mel_df['album'] = ['Melophobia'] * len(Mel_df.index)"
   ]
  },
  {
   "cell_type": "markdown",
   "id": "7e2bff00",
   "metadata": {},
   "source": [
    "**Shows how much louder and energetic Linkin Park is than cage the elephant, i kind of expected this because Meteora is a rock album while Melophobia is more of an indi rock less loud**"
   ]
  },
  {
   "cell_type": "code",
   "execution_count": 197,
   "id": "71fc7a82",
   "metadata": {},
   "outputs": [
    {
     "data": {
      "text/plain": [
       "Text(0.5, 1.0, 'Loudness')"
      ]
     },
     "execution_count": 197,
     "metadata": {},
     "output_type": "execute_result"
    },
    {
     "data": {
      "image/png": "[encoded data removed]",
      "text/plain": [
       "<Figure size 432x288 with 2 Axes>"
      ]
     },
     "metadata": {
      "needs_background": "light"
     },
     "output_type": "display_data"
    }
   ],
   "source": [
    "CTE = audio_features[audio_features['album'] == 'Melophobia']['energy']\n",
    "Linkin = audio_features[audio_features['album'] == 'Meteora']['energy']\n",
    "fig, ax = plt.subplots(2)\n",
    "fig.tight_layout(h_pad=2.0)\n",
    "ax[0].hist(CTE, alpha = 0.5, color = 'green', label='CTE')\n",
    "ax[0].hist(Linkin, alpha = 0.5, color = 'blue', label='Linkin')\n",
    "ax[0].legend()\n",
    "ax[0].set_title('Energy')\n",
    "\n",
    "\n",
    "CTE = audio_features[audio_features['album'] == 'Melophobia']['loudness']\n",
    "Linkin = audio_features[audio_features['album'] == 'Meteora']['loudness']\n",
    "ax[1].hist(CTE, alpha = 0.5, color = 'green', label='CTE')\n",
    "ax[1].hist(Linkin, alpha = 0.5, color = 'blue', label='Linkin')\n",
    "ax[1].legend()\n",
    "ax[1].set_title('Loudness')\n"
   ]
  },
  {
   "cell_type": "markdown",
   "id": "edc66be7",
   "metadata": {},
   "source": [
    "**Shows the coralation between how loud something is and the energy between the songs. The louder the song is the more energy is has. Spotify can use this to select songs to add to different playlist or recommendations for people**"
   ]
  },
  {
   "cell_type": "code",
   "execution_count": 198,
   "id": "41c63929",
   "metadata": {},
   "outputs": [
    {
     "data": {
      "image/png": "[encoded data removed]",
      "text/plain": [
       "<Figure size 432x288 with 2 Axes>"
      ]
     },
     "metadata": {
      "needs_background": "light"
     },
     "output_type": "display_data"
    }
   ],
   "source": [
    "CTE_E = audio_features[audio_features['album'] == 'Melophobia']['energy']\n",
    "Linkin_E = audio_features[audio_features['album'] == 'Meteora']['energy']\n",
    "CTE_L = audio_features[audio_features['album'] == 'Melophobia']['loudness']\n",
    "Linkin_L = audio_features[audio_features['album'] == 'Meteora']['loudness']\n",
    "fig, ax = plt.subplots(2)\n",
    "fig.tight_layout(h_pad=2.0)\n",
    "ax[0].scatter(CTE_E, CTE_L, alpha = 0.5)\n",
    "ax[0].set_title('CTE Energy and Loudness')\n",
    "ax[1].scatter(Linkin_E, Linkin_L, alpha = 0.5)\n",
    "ax[1].set_title('Linkin Park Energy and Loudness')\n",
    "plt.show()"
   ]
  },
  {
   "cell_type": "markdown",
   "id": "ddbe193c",
   "metadata": {},
   "source": [
    "**Showing how similar the albums are in terms of getting people hyped**"
   ]
  },
  {
   "cell_type": "code",
   "execution_count": 199,
   "id": "bdd7f196",
   "metadata": {},
   "outputs": [
    {
     "data": {
      "image/png": "[encoded data removed]",
      "text/plain": [
       "<Figure size 432x288 with 1 Axes>"
      ]
     },
     "metadata": {
      "needs_background": "light"
     },
     "output_type": "display_data"
    }
   ],
   "source": [
    "colors = {'Meteora':'tab:green', 'Melophobia':'tab:blue',}\n",
    "\n",
    "fig, ax = plt.subplots()\n",
    "ax.scatter(audio_features['energy'], audio_features['loudness'], c=audio_features['album'].map(colors), alpha = 0.5)\n",
    "ax.set_title('Energy vs Loudness both Albums')\n",
    "\n",
    "plt.show()"
   ]
  },
  {
   "cell_type": "markdown",
   "id": "f8d36f39",
   "metadata": {},
   "source": [
    "**Averaging out the danceability of each album with melophobia having a very broad danceible album and Meteoras songs being condensed and the same rating with danceibility**"
   ]
  },
  {
   "cell_type": "code",
   "execution_count": 200,
   "id": "7ec1d534",
   "metadata": {},
   "outputs": [
    {
     "data": {
      "image/png": "[encoded data removed]",
      "text/plain": [
       "<Figure size 432x288 with 1 Axes>"
      ]
     },
     "metadata": {
      "needs_background": "light"
     },
     "output_type": "display_data"
    }
   ],
   "source": [
    "import numpy as np\n",
    "fig, ax = plt.subplots()\n",
    "\n",
    "CTE_D = audio_features[audio_features['album'] == 'Melophobia']['danceability']\n",
    "Linkin_D = audio_features[audio_features['album'] == 'Meteora']['danceability']\n",
    "CTE_x = [1] * len(CTE_D)\n",
    "Linkin_x = [2] * len(Linkin_D)\n",
    "CTE_x_jitter = np.random.uniform(-0.10, .10, len(CTE_x))\n",
    "Linkin_x_jitter = np.random.uniform(-0.10, .10, len(Linkin_x))\n",
    "ax.scatter(CTE_x + CTE_x_jitter, CTE_D, alpha = 0.4, s = 25)\n",
    "ax.scatter(Linkin_x + Linkin_x_jitter, Linkin_D, alpha = 0.4, s = 25)\n",
    "ax.boxplot([CTE_D, Linkin_D])\n",
    "ax.set_xticks([1,2], ['Melophobia', 'Meteora'])\n",
    "plt.show()\n"
   ]
  },
  {
   "cell_type": "code",
   "execution_count": 201,
   "id": "a21db1ac",
   "metadata": {},
   "outputs": [
    {
     "name": "stdout",
     "output_type": "stream",
     "text": [
      "Cage The Elephant vs Linkin Park: \n",
      " T-stat : 0.49953552620387487\n",
      " P-val : 0.6225956261726016 \n",
      "\n"
     ]
    }
   ],
   "source": [
    "from scipy.stats import ttest_ind\n",
    "\n",
    "ttest = ttest_ind(CTE_D, Linkin_D)\n",
    "print(\"Cage The Elephant vs Linkin Park: \\n T-stat : {}\\n P-val : {} \\n\".format(ttest.statistic, ttest.pvalue))"
   ]
  },
  {
   "cell_type": "markdown",
   "id": "2fe95f0c",
   "metadata": {},
   "source": [
    "Shows that the albums arent that much different from each other. I expected that because they are both rock albums while linkin park is a harder rock band and cage the elephant is a softer rock band. Both rock albums tho hence why they are relatively similar"
   ]
  },
  {
   "cell_type": "code",
   "execution_count": null,
   "id": "10c4c3c1",
   "metadata": {},
   "outputs": [],
   "source": []
  }
 ],
 "metadata": {
  "kernelspec": {
   "display_name": "Python 3 (ipykernel)",
   "language": "python",
   "name": "python3"
  },
  "language_info": {
   "codemirror_mode": {
    "name": "ipython",
    "version": 3
   },
   "file_extension": ".py",
   "mimetype": "text/x-python",
   "name": "python",
   "nbconvert_exporter": "python",
   "pygments_lexer": "ipython3",
   "version": "3.9.12"
  }
 },
 "nbformat": 4,
 "nbformat_minor": 5
}
